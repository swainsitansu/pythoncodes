{
 "cells": [
  {
   "cell_type": "code",
   "execution_count": 3,
   "metadata": {},
   "outputs": [
    {
     "name": "stdout",
     "output_type": "stream",
     "text": [
      "10\n",
      "10\n",
      "20\n",
      "30\n"
     ]
    }
   ],
   "source": [
    "#99somename -wrong way of defining identifiers\n",
    "#99somename=10\n",
    "\n",
    "#somename99  - Right way of defining identifiers\n",
    "somename99=10\n",
    "print(somename99)\n",
    "\n",
    "#Can not use keyword as identifiers\n",
    "#break=10 \n",
    "\n",
    "#Hello@ -Can't use special symbols as an identifier\n",
    "\n",
    "hello=10\n",
    "print(hello)\n",
    "\n",
    "hello123=20\n",
    "print(hello123)\n",
    "\n",
    "hello_1=30\n",
    "print(hello_1)\n"
   ]
  }
 ],
 "metadata": {
  "kernelspec": {
   "display_name": "Python 3",
   "language": "python",
   "name": "python3"
  },
  "language_info": {
   "codemirror_mode": {
    "name": "ipython",
    "version": 3
   },
   "file_extension": ".py",
   "mimetype": "text/x-python",
   "name": "python",
   "nbconvert_exporter": "python",
   "pygments_lexer": "ipython3",
   "version": "3.7.3"
  }
 },
 "nbformat": 4,
 "nbformat_minor": 2
}
