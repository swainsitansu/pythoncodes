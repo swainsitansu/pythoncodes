{
 "cells": [
  {
   "cell_type": "code",
   "execution_count": 14,
   "metadata": {},
   "outputs": [
    {
     "name": "stdout",
     "output_type": "stream",
     "text": [
      "100\n",
      "\n",
      "    Function is to square a number\n",
      "    Print this docstring using  __doc__ attribute of the function\n",
      "    \n"
     ]
    }
   ],
   "source": [
    "#This is a single line comments. Has no effect on the code below.The below code is meant xyz\n",
    "xyz=10\n",
    "\n",
    "#You can write multiple lines of comment by putting '#' at the beginning\n",
    "#You can write multiple lines of comment by putting '#' at the beginning\n",
    "\n",
    "'''\n",
    "A better option to write multi line comment is by adding all your \n",
    "text between a set of 3-single or 3-double quotes. Like we have done here\n",
    "'''\n",
    "\n",
    "\"\"\"\n",
    "A better option to write multi line comment is by adding all your text between a set of 3-single or 3-double \n",
    "quotes. Like we have done here\n",
    "\"\"\"\n",
    "\n",
    "'''\n",
    "Docstring\n",
    "\n",
    "Docstring is short for documentation string\n",
    "\n",
    "String that occurs as the first statement in a module, function, class or method defination.\n",
    "Used to define what a function/class does \n",
    "'''\n",
    "\n",
    "\n",
    "def square(num):\n",
    "    '''\n",
    "    Function is to square a number\n",
    "    Print this docstring using  __doc__ attribute of the function\n",
    "    '''\n",
    "    return num*num\n",
    "\n",
    "print(square(10))\n",
    "\n",
    "print(square.__doc__) #To print the docstring of a function use the __doc__ attribute of the function\n",
    "\n",
    "#Press shift + tab to view the docstring \n",
    "\n",
    "\n",
    "    \n",
    "\n"
   ]
  }
 ],
 "metadata": {
  "kernelspec": {
   "display_name": "Python 3",
   "language": "python",
   "name": "python3"
  },
  "language_info": {
   "codemirror_mode": {
    "name": "ipython",
    "version": 3
   },
   "file_extension": ".py",
   "mimetype": "text/x-python",
   "name": "python",
   "nbconvert_exporter": "python",
   "pygments_lexer": "ipython3",
   "version": "3.7.3"
  }
 },
 "nbformat": 4,
 "nbformat_minor": 2
}
